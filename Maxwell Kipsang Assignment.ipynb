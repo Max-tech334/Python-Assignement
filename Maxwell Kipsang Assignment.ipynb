{
 "cells": [
  {
   "cell_type": "code",
   "execution_count": 5,
   "id": "a7a0df01-e752-4c9f-9ae2-26aa7aa0afec",
   "metadata": {},
   "outputs": [
    {
     "name": "stdin",
     "output_type": "stream",
     "text": [
      "Enter a number:  81\n"
     ]
    },
    {
     "name": "stdout",
     "output_type": "stream",
     "text": [
      "81 is not a prime number\n"
     ]
    }
   ],
   "source": [
    "#Prime Numbers\n",
    "\n",
    "def prime(number):\n",
    "    if number <= 1:\n",
    "        return False\n",
    "    if number <= 3:\n",
    "        return True\n",
    "    if number % 2 == 0 or number % 3 == 0:\n",
    "        return False\n",
    "    i = 5\n",
    "    while i * i <= number:\n",
    "        if number % i == 0 or number % (i + 2) == 0:\n",
    "            return False\n",
    "        i += 6\n",
    "    return True\n",
    "\n",
    "\n",
    "number = int(input(\"Enter a number: \"))\n",
    "if prime(number):\n",
    "    print(number, \"is a prime number\")\n",
    "else:\n",
    "    print(number, \"is not a prime number\")\n"
   ]
  },
  {
   "cell_type": "code",
   "execution_count": 6,
   "id": "a4bf5862-51d4-40a9-87c1-11c3ba79dfdb",
   "metadata": {},
   "outputs": [
    {
     "name": "stdin",
     "output_type": "stream",
     "text": [
      "Enter a number:  85\n"
     ]
    },
    {
     "name": "stdout",
     "output_type": "stream",
     "text": [
      "Sum of digits of 85 is: 13\n"
     ]
    }
   ],
   "source": [
    "#Sum of digits\n",
    "\n",
    "def sumD(number):\n",
    "    total = 0\n",
    "    while number > 0:\n",
    "        total += number % 10\n",
    "        number //= 10\n",
    "    return total\n",
    "\n",
    "\n",
    "number = int(input(\"Enter a number: \"))\n",
    "result = sumD(number)\n",
    "print(\"Sum of digits of\", number, \"is:\", result)\n"
   ]
  },
  {
   "cell_type": "code",
   "execution_count": 8,
   "id": "2263715a-39ef-41b6-b26b-3236105ae471",
   "metadata": {},
   "outputs": [
    {
     "name": "stdin",
     "output_type": "stream",
     "text": [
      "Enter elements of the list separated by space:  16 718 728 828 727 7387 3637 393 838 829 7237 9272 \n"
     ]
    },
    {
     "name": "stdout",
     "output_type": "stream",
     "text": [
      "The largest element in the list is: 9272\n"
     ]
    }
   ],
   "source": [
    "#Largest Element in a list\n",
    "\n",
    "def LargestElement(lst):\n",
    "    if not lst:\n",
    "        return None\n",
    "    max_element = lst[0]\n",
    "    for element in lst:\n",
    "        if element > max_element:\n",
    "            max_element = element\n",
    "    return max_element\n",
    "\n",
    "\n",
    "input_list = [int(x) for x in input(\"Enter elements of the list separated by space: \").split()]\n",
    "largest_element =LargestElement(input_list)\n",
    "print(\"The largest element in the list is:\", largest_element)\n"
   ]
  },
  {
   "cell_type": "code",
   "execution_count": 9,
   "id": "df549ad4-f39d-4be1-98cd-9d70ddef0df3",
   "metadata": {},
   "outputs": [
    {
     "name": "stdin",
     "output_type": "stream",
     "text": [
      "Enter elements of the list separated by space:  13 252 25 36 839 373 636 373 737\n"
     ]
    },
    {
     "name": "stdout",
     "output_type": "stream",
     "text": [
      "Sorted list in ascending order: [13, 25, 36, 252, 373, 373, 636, 737, 839]\n"
     ]
    }
   ],
   "source": [
    "#. List Sorting:\n",
    "\n",
    "def sla(lst):\n",
    "    return sorted(lst)\n",
    "\n",
    "\n",
    "input_list = [int(x) for x in input(\"Enter elements of the list separated by space: \").split()]\n",
    "sorted_list = sla(input_list)\n",
    "print(\"Sorted list in ascending order:\", sorted_list)\n"
   ]
  },
  {
   "cell_type": "code",
   "execution_count": 11,
   "id": "ee29a32c-a85e-4ca0-9a91-93323057a8b2",
   "metadata": {},
   "outputs": [
    {
     "name": "stdin",
     "output_type": "stream",
     "text": [
      "Enter the key to search in the dictionary:  name\n"
     ]
    },
    {
     "name": "stdout",
     "output_type": "stream",
     "text": [
      "Key name is present in the dictionary.\n"
     ]
    }
   ],
   "source": [
    "#Dictionary Search\n",
    "\n",
    "def dictionary(dictionary, key):\n",
    "    if key in dictionary:\n",
    "        return True\n",
    "    else:\n",
    "        return False\n",
    "\n",
    "# Example usage:\n",
    "my_dictionary = {'name': 'Maxwell', 'age': 26, 'city': 'Isiolo'}\n",
    "search_key = input(\"Enter the key to search in the dictionary: \")\n",
    "if dictionary(my_dictionary, search_key):\n",
    "    print(\"Key\", search_key, \"is present in the dictionary.\")\n",
    "else:\n",
    "    print(\"Key\", search_key, \"is not present in the dictionary.\")\n"
   ]
  },
  {
   "cell_type": "code",
   "execution_count": 12,
   "id": "91637a3a-df94-4c25-b4d7-5e9886b54f8d",
   "metadata": {},
   "outputs": [
    {
     "name": "stdin",
     "output_type": "stream",
     "text": [
      "Enter elements of the list separated by space:  34 67 89 90 34 76 89 53 77 73 83 73 36 53 7 8 37 \n"
     ]
    },
    {
     "name": "stdout",
     "output_type": "stream",
     "text": [
      "Unique elements in the list: [34, 67, 36, 37, 7, 8, 73, 76, 77, 83, 53, 89, 90]\n"
     ]
    }
   ],
   "source": [
    "#. Unique Elements\n",
    "\n",
    "def UniqueElements(x):\n",
    "    return list(set(x))\n",
    "\n",
    "input_list = [int(x) for x in input(\"Enter elements of the list separated by space: \").split()]\n",
    "unique_list = UniqueElements(input_list)\n",
    "print(\"Unique elements in the list:\", unique_list)\n"
   ]
  },
  {
   "cell_type": "code",
   "execution_count": 13,
   "id": "faa5b4a9-44e9-4645-8703-35b447d92c38",
   "metadata": {},
   "outputs": [
    {
     "name": "stdout",
     "output_type": "stream",
     "text": [
      "The square of 1 is: 1\n",
      "The square of 2 is: 4\n",
      "The square of 3 is: 9\n",
      "The square of 4 is: 16\n",
      "The square of 5 is: 25\n",
      "The square of 6 is: 36\n",
      "The square of 7 is: 49\n",
      "The square of 8 is: 64\n",
      "The square of 9 is: 81\n",
      "The square of 10 is: 100\n"
     ]
    }
   ],
   "source": [
    "#Square of Numbers\n",
    "\n",
    "def squareNumbers():\n",
    "    number = 1\n",
    "    while number <= 10:\n",
    "        print(f\"The square of {number} is: {number ** 2}\")\n",
    "        number += 1\n",
    "\n",
    "\n",
    "squareNumbers()\n"
   ]
  },
  {
   "cell_type": "code",
   "execution_count": 14,
   "id": "f20bfc31-2dad-4326-be0c-d50d189c8621",
   "metadata": {},
   "outputs": [
    {
     "name": "stdin",
     "output_type": "stream",
     "text": [
      "Enter a string:  e\n"
     ]
    },
    {
     "name": "stdout",
     "output_type": "stream",
     "text": [
      "Number of vowels in the string: 1\n"
     ]
    }
   ],
   "source": [
    "#Vowel Count\n",
    "\n",
    "def countVowels(string):\n",
    "    vowels = 'aeiouAEIOU'\n",
    "    vowel_count = 0\n",
    "    for char in string:\n",
    "        if char in vowels:\n",
    "            vowel_count += 1\n",
    "    return vowel_count\n",
    "\n",
    "\n",
    "input_string = input(\"Enter a string: \")\n",
    "result = countVowels(input_string)\n",
    "print(\"Number of vowels in the string:\", result)\n"
   ]
  },
  {
   "cell_type": "code",
   "execution_count": 15,
   "id": "3a027a79-a080-4e47-a7a3-6aa64949881c",
   "metadata": {},
   "outputs": [
    {
     "name": "stdout",
     "output_type": "stream",
     "text": [
      "Merged list: [1, 2, 3, 4, 5, 6]\n"
     ]
    }
   ],
   "source": [
    "#Merge lists\n",
    "\n",
    "def mergeLists(list1, list2):\n",
    "    return list1 + list2\n",
    "\n",
    "list1 = [1, 2, 3]\n",
    "list2 = [4, 5, 6]\n",
    "merged_list = mergeLists(list1, list2)\n",
    "print(\"Merged list:\", merged_list)\n"
   ]
  },
  {
   "cell_type": "code",
   "execution_count": 16,
   "id": "3f5522b5-1196-462b-ac3b-06a418204d58",
   "metadata": {},
   "outputs": [
    {
     "name": "stdout",
     "output_type": "stream",
     "text": [
      "Select operation:\n",
      "1. Addition\n",
      "2. Subtraction\n",
      "3. Multiplication\n",
      "4. Division\n"
     ]
    },
    {
     "name": "stdin",
     "output_type": "stream",
     "text": [
      "Enter choice (1/2/3/4):  1\n",
      "Enter first number:  67\n",
      "Enter second number:  54\n"
     ]
    },
    {
     "name": "stdout",
     "output_type": "stream",
     "text": [
      "Result: 121.0\n"
     ]
    }
   ],
   "source": [
    "def add(x, y):\n",
    "    return x + y\n",
    "\n",
    "def subtract(x, y):\n",
    "    return x - y\n",
    "\n",
    "def multiply(x, y):\n",
    "    return x * y\n",
    "\n",
    "def divide(x, y):\n",
    "    if y == 0:\n",
    "        return \"Cannot divide by zero!\"\n",
    "    return x / y\n",
    "\n",
    "print(\"Select operation:\")\n",
    "print(\"1. Addition\")\n",
    "print(\"2. Subtraction\")\n",
    "print(\"3. Multiplication\")\n",
    "print(\"4. Division\")\n",
    "\n",
    "while True:\n",
    "    choice = input(\"Enter choice (1/2/3/4): \")\n",
    "\n",
    "    if choice in ('1', '2', '3', '4'):\n",
    "        num1 = float(input(\"Enter first number: \"))\n",
    "        num2 = float(input(\"Enter second number: \"))\n",
    "\n",
    "        if choice == '1':\n",
    "            print(\"Result:\", add(num1, num2))\n",
    "        elif choice == '2':\n",
    "            print(\"Result:\", subtract(num1, num2))\n",
    "        elif choice == '3':\n",
    "            print(\"Result:\", multiply(num1, num2))\n",
    "        elif choice == '4':\n",
    "            print(\"Result:\", divide(num1, num2))\n",
    "        break\n",
    "    else:\n",
    "        print(\"Invalid input\")\n",
    "\n"
   ]
  },
  {
   "cell_type": "code",
   "execution_count": null,
   "id": "4cd0eed8-c0ce-4615-af7d-7ff625675733",
   "metadata": {},
   "outputs": [],
   "source": []
  }
 ],
 "metadata": {
  "kernelspec": {
   "display_name": "Python 3 (ipykernel)",
   "language": "python",
   "name": "python3"
  },
  "language_info": {
   "codemirror_mode": {
    "name": "ipython",
    "version": 3
   },
   "file_extension": ".py",
   "mimetype": "text/x-python",
   "name": "python",
   "nbconvert_exporter": "python",
   "pygments_lexer": "ipython3",
   "version": "3.11.7"
  }
 },
 "nbformat": 4,
 "nbformat_minor": 5
}
